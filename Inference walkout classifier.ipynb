{
 "cells": [
  {
   "cell_type": "code",
   "execution_count": 1,
   "metadata": {},
   "outputs": [],
   "source": [
    "import torch\n",
    "import librosa\n",
    "import matplotlib.pyplot as plt\n",
    "from PIL import Image\n",
    "import io\n",
    "import numpy as np\n",
    "from librosa.display import specshow\n",
    "from torchvision import datasets, models, transforms"
   ]
  },
  {
   "cell_type": "markdown",
   "metadata": {},
   "source": [
    "## Load pre saved model"
   ]
  },
  {
   "cell_type": "code",
   "execution_count": 2,
   "metadata": {},
   "outputs": [],
   "source": [
    "model = torch.jit.load('cnn_97_accuracy.pt')\n",
    "#model.load_state_dict(torch.load(r'.\\dataset\\final_model_97', map_location=torch.device('cpu')))"
   ]
  },
  {
   "cell_type": "markdown",
   "metadata": {},
   "source": [
    "## Functions "
   ]
  },
  {
   "cell_type": "code",
   "execution_count": 22,
   "metadata": {},
   "outputs": [],
   "source": [
    "def classify_walkout(path):\n",
    "    sr = 16000\n",
    "    wav, sr = librosa.load(path, sr = sr) # load wav audio file\n",
    "    \n",
    "    wav, s = librosa.load(path)\n",
    "    if (len(wav) < sr):\n",
    "        wav = np.append(wav, np.zeros(sr - len(wav)))\n",
    "    elif (len(wav) > sr):\n",
    "        wav = wav[:sr]\n",
    "    \n",
    "    # get spectogram\n",
    "    plt.figure()\n",
    "    src_ft = librosa.stft(wav)\n",
    "    src_db = librosa.amplitude_to_db(abs(src_ft))\n",
    "    plt.axis('off')\n",
    "    specshow(src_db, sr=sr) \n",
    "    \n",
    "    # save spectogram\n",
    "    buf = io.BytesIO()\n",
    "    plt.savefig(buf, format='png')\n",
    "    buf.seek(0)\n",
    "    img = Image.open(buf)\n",
    "    \n",
    "    # applying tranformations (Resize and toTensor)\n",
    "    transform=transforms.Compose([transforms.Resize((201,81))])\n",
    "    img= transform(img)\n",
    "    img = np.array(img)[:,:,:3]\n",
    "    trans = transforms.ToTensor()\n",
    "    img = trans(img)\n",
    "    plt.close()\n",
    "    \n",
    "    #model prediction\n",
    "    model.eval()\n",
    "    pred = model(img[None, ...])\n",
    "    \n",
    "    if (pred.argmax(1) == 1):\n",
    "        return True\n",
    "    else:\n",
    "        return False\n",
    "    \n",
    "# convert audio file into 1 sec random chunks and classify them   \n",
    "def classify_walkout_10sec_stream(path):\n",
    "    wav, sr = librosa.load(path, sr = 16000) # load wav file\n",
    "    previous_segments = []\n",
    "    walkout_segments = []\n",
    "    segment_ms = 16000\n",
    "    \n",
    "    #get random time segments\n",
    "    for i in range(20):\n",
    "        segment_time = get_random_time_segment(segment_ms, wav.shape[0])\n",
    "        \n",
    "        if is_overlapping(segment_time, previous_segments):\n",
    "            continue\n",
    "            \n",
    "        previous_segments.append(segment_time)\n",
    "        audio_clip = wav[segment_time[0]:segment_time[1]+1]\n",
    "        \n",
    "        if(classify_walkout_wav(audio_clip)):\n",
    "            walkout_segments.append(segment_time)\n",
    "            \n",
    "    return np.array(walkout_segments)/16000      \n",
    "\n",
    "# random time segments for given length    \n",
    "def get_random_time_segment(segment_ms, max_length):\n",
    "    segment_start = np.random.randint(low=0, high=max_length-segment_ms)\n",
    "    segment_end = segment_start + segment_ms - 1\n",
    "    \n",
    "    return (segment_start, segment_end)\n",
    "                                      \n",
    "# Check if a segment is overlapping with any previous segments\n",
    "def is_overlapping(segment_time, previous_segments):\n",
    "    \n",
    "    segment_start, segment_end = segment_time\n",
    "    \n",
    "    overlap = False\n",
    "    \n",
    "    for previous_start, previous_end in previous_segments:\n",
    "        if segment_start <= previous_end and segment_end >= previous_start:\n",
    "            overlap = True\n",
    "    return overlap\n",
    "       \n",
    "def classify_walkout_wav(wav):\n",
    "    sr = 16000\n",
    "    plt.figure()\n",
    "    src_ft = librosa.stft(wav)\n",
    "    src_db = librosa.amplitude_to_db(abs(src_ft))\n",
    "    plt.axis('off')\n",
    "    specshow(src_db, sr=sr) \n",
    "    \n",
    "    buf = io.BytesIO()\n",
    "    plt.savefig(buf, format='png')\n",
    "    buf.seek(0)\n",
    "    img = Image.open(buf)\n",
    "    \n",
    "    transform=transforms.Compose([transforms.Resize((201,81))])\n",
    "    img= transform(img)\n",
    "    img = np.array(img)[:,:,:3]\n",
    "    trans = transforms.ToTensor()\n",
    "    img = trans(img)\n",
    "    plt.close()\n",
    "    \n",
    "    model.eval()\n",
    "    pred = model(img[None, ...])\n",
    "    \n",
    "    if (pred.argmax(1) == 1):\n",
    "        return True\n",
    "    else:\n",
    "        return False        "
   ]
  },
  {
   "cell_type": "markdown",
   "metadata": {},
   "source": [
    "## Inference"
   ]
  },
  {
   "cell_type": "code",
   "execution_count": 23,
   "metadata": {},
   "outputs": [
    {
     "data": {
      "text/plain": [
       "True"
      ]
     },
     "execution_count": 23,
     "metadata": {},
     "output_type": "execute_result"
    }
   ],
   "source": [
    "# walkout classifier function, input: path string, output: Boolean \n",
    "\n",
    "classify_walkout(\"raza_1.wav\")"
   ]
  },
  {
   "cell_type": "code",
   "execution_count": 21,
   "metadata": {},
   "outputs": [
    {
     "name": "stdout",
     "output_type": "stream",
     "text": [
      "'Walkout' was found in the following time durations.\n",
      " \n",
      " [[ 1.7506875  2.750625 ]\n",
      " [ 4.0700625  5.07     ]\n",
      " [ 5.3208125  6.32075  ]\n",
      " [11.7626875 12.762625 ]\n",
      " [ 7.867      8.8669375]\n",
      " [ 0.3104375  1.310375 ]]\n"
     ]
    }
   ],
   "source": [
    "# walkout classifier function for an audio stream, input: path string, output: List of timestamps of occurences\n",
    "\n",
    "segments_list = classify_walkout_10sec_stream('raza.wav')\n",
    "\n",
    "print(\"'Walkout' was found in the following time durations.\\n \\n\", segments_list)"
   ]
  },
  {
   "cell_type": "code",
   "execution_count": null,
   "metadata": {},
   "outputs": [],
   "source": []
  }
 ],
 "metadata": {
  "kernelspec": {
   "display_name": "Python 3",
   "language": "python",
   "name": "python3"
  },
  "language_info": {
   "codemirror_mode": {
    "name": "ipython",
    "version": 3
   },
   "file_extension": ".py",
   "mimetype": "text/x-python",
   "name": "python",
   "nbconvert_exporter": "python",
   "pygments_lexer": "ipython3",
   "version": "3.8.5"
  }
 },
 "nbformat": 4,
 "nbformat_minor": 4
}
